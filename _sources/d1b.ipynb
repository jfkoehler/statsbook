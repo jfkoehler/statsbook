{
 "cells": [
  {
   "cell_type": "markdown",
   "metadata": {},
   "source": [
    "### Investigating Police Shooting\n",
    "\n",
    "![](wpost.png)\n",
    "\n",
    "Let's take a look at this [data](https://raw.githubusercontent.com/washingtonpost/data-police-shootings/master/fatal-police-shootings-data.csv), and see how we can read a `.csv` file in to our google drive.  Our goals will be as follows:\n",
    "\n",
    "1. Read in the `.csv` file containing information on fatal police shootings.\n",
    "2. Examine the data and describe what the different features are and their datatypes.\n",
    "3. Determine an appropriate kind of visualization for each feature.\n",
    "4. Interpret the visualization and its meaning.\n",
    "5. Identify 5 topics of interest to your group that could have data available.  Search around and see if you can locate any datasets that seem interesting.  Can you load and explore the data?  What are five questions you might answer with the data?"
   ]
  }
 ],
 "metadata": {
  "kernelspec": {
   "display_name": "Python 3",
   "language": "python",
   "name": "python3"
  },
  "language_info": {
   "codemirror_mode": {
    "name": "ipython",
    "version": 3
   },
   "file_extension": ".py",
   "mimetype": "text/x-python",
   "name": "python",
   "nbconvert_exporter": "python",
   "pygments_lexer": "ipython3",
   "version": "3.7.4"
  }
 },
 "nbformat": 4,
 "nbformat_minor": 4
}
